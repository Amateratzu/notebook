{
  "nbformat": 4,
  "nbformat_minor": 0,
  "metadata": {
    "colab": {
      "name": "Te damos la bienvenida a Colaboratory",
      "provenance": [],
      "collapsed_sections": [],
      "toc_visible": true,
      "include_colab_link": true
    },
    "kernelspec": {
      "display_name": "Python 3",
      "name": "python3"
    }
  },
  "cells": [
    {
      "cell_type": "markdown",
      "metadata": {
        "id": "view-in-github",
        "colab_type": "text"
      },
      "source": [
        "<a href=\"https://colab.research.google.com/github/Amateratzu/notebook/blob/master/Te_damos_la_bienvenida_a_Colaboratory.ipynb\" target=\"_parent\"><img src=\"https://colab.research.google.com/assets/colab-badge.svg\" alt=\"Open In Colab\"/></a>"
      ]
    },
    {
      "cell_type": "markdown",
      "metadata": {
        "id": "7IXBoSEVYjE6"
      },
      "source": [
        "# **Distribución Binomial**"
      ]
    },
    {
      "cell_type": "markdown",
      "metadata": {
        "id": "MlA5oaHTYz7U"
      },
      "source": [
        "## Importando desde la librería la función ya existente"
      ]
    },
    {
      "cell_type": "code",
      "metadata": {
        "id": "YClhkWNyY-yV"
      },
      "source": [
        "import numpy as np\n",
        "import matplotlib.pyplot as plt\n",
        "from scipy.stats import binom"
      ],
      "execution_count": 2,
      "outputs": []
    },
    {
      "cell_type": "code",
      "metadata": {
        "id": "lofjShhnYxZk"
      },
      "source": [
        "x = np.arange(0,10)\n",
        "\n",
        "densidadprob=binom.pmf(k=3,n=4,p=.25)\n",
        "probacumul=binom.cdf(k=2,n=4,p=.25)\n",
        "mea=binom.mean(n=4,p=.25)\n",
        "med=binom.median(n=4,p=.25)\n",
        "v=binom.var(n=4,p=0.25)"
      ],
      "execution_count": 23,
      "outputs": []
    },
    {
      "cell_type": "code",
      "metadata": {
        "id": "KnmyN0-aZ4v4",
        "outputId": "aae36996-9ec1-4e98-f36d-c2591c8e5f48",
        "colab": {
          "base_uri": "https://localhost:8080/"
        }
      },
      "source": [
        "print(densidadprob,probacumul,me,med,v)"
      ],
      "execution_count": 24,
      "outputs": [
        {
          "output_type": "stream",
          "name": "stdout",
          "text": [
            "0.046875000000000035 0.94921875 1.0 1.0 0.75\n"
          ]
        }
      ]
    },
    {
      "cell_type": "code",
      "metadata": {
        "id": "RpClxgPkaH1E"
      },
      "source": [
        ""
      ],
      "execution_count": 24,
      "outputs": []
    }
  ]
}